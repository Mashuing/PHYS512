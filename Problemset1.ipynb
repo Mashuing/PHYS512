{
 "cells": [
  {
   "cell_type": "markdown",
   "metadata": {},
   "source": [
    "# Here is solution for Problem set 1"
   ]
  },
  {
   "cell_type": "markdown",
   "metadata": {},
   "source": [
    "## Problem 1\n",
    "### a \n",
    "Let consider the 3 rd order taylor series for $x\\pm \\delta$ and $x \\pm 2\\delta$ at x\\\n",
    "$f(x+\\delta)=f(x)+\\delta f^{\\prime}(x) + \\delta^2\\frac{f^{\\prime\\prime}(x)}{2} +\\delta^3\\frac{f^{\\prime\\prime\\prime}(x)}{6}$\\\n",
    "$f(x-\\delta)=f(x)-\\delta f^{\\prime}(x) + \\delta^2\\frac{f^{\\prime\\prime}(x)}{2} -\\delta^3\\frac{f^{\\prime\\prime\\prime}(x)}{6}$\\\n",
    "$f(x+2\\delta)=f(x)+2\\delta f^{\\prime}(x) + 4\\delta^2\\frac{f^{\\prime\\prime}(x)}{2} +8\\delta^3\\frac{f^{\\prime\\prime\\prime}(x)}{6}$\\\n",
    "$f(x-2\\delta)=f(x)-2\\delta f^{\\prime}(x) + 4\\delta^2\\frac{f^{\\prime\\prime}(x)}{2} -8\\delta^3\\frac{f^{\\prime\\prime\\prime}(x)}{6}$\\\n",
    "To cancel the second and third order, we can use:\\\n",
    "$8(f(x+\\delta)-f(x-\\delta))-(f(x+2\\delta)-f(x-2\\delta))=12f^{\\prime}(x)\\delta$\\\n",
    "$f^{\\prime}(x) = \\frac{1}{12\\delta}(8(f(x+\\delta)-f(x-\\delta))-(f(x+2\\delta)-f(x-2\\delta)))$"
   ]
  },
  {
   "cell_type": "code",
   "execution_count": null,
   "metadata": {},
   "outputs": [],
   "source": []
  },
  {
   "cell_type": "code",
   "execution_count": null,
   "metadata": {},
   "outputs": [],
   "source": []
  }
 ],
 "metadata": {
  "kernelspec": {
   "display_name": "Python 3",
   "language": "python",
   "name": "python3"
  },
  "language_info": {
   "codemirror_mode": {
    "name": "ipython",
    "version": 3
   },
   "file_extension": ".py",
   "mimetype": "text/x-python",
   "name": "python",
   "nbconvert_exporter": "python",
   "pygments_lexer": "ipython3",
   "version": "3.7.3"
  }
 },
 "nbformat": 4,
 "nbformat_minor": 2
}
