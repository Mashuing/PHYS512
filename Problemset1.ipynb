{
 "cells": [
  {
   "cell_type": "markdown",
   "metadata": {},
   "source": [
    "# Here is solution for Problem set 1"
   ]
  },
  {
   "cell_type": "markdown",
   "metadata": {},
   "source": [
    "## Problem 1\n",
    "### a \n",
    "Let consider the 3 rd order taylor series for $x\\pm \\delta$ and $x \\pm 2\\delta$ at x\\\n",
    "$f(x+\\delta)=f(x)+\\delta f^{\\prime}(x) + \\delta^2\\frac{f^{\\prime\\prime}(x)}{2} +\\delta^3\\frac{f^{\\prime\\prime\\prime}(x)}{6}$\\\n",
    "$f(x-\\delta)=f(x)-\\delta f^{\\prime}(x) + \\delta^2\\frac{f^{\\prime\\prime}(x)}{2} -\\delta^3\\frac{f^{\\prime\\prime\\prime}(x)}{6}$\\\n",
    "$f(x+2\\delta)=f(x)+2\\delta f^{\\prime}(x) + 4\\delta^2\\frac{f^{\\prime\\prime}(x)}{2} +8\\delta^3\\frac{f^{\\prime\\prime\\prime}(x)}{6}$\\\n",
    "$f(x-2\\delta)=f(x)-2\\delta f^{\\prime}(x) + 4\\delta^2\\frac{f^{\\prime\\prime}(x)}{2} -8\\delta^3\\frac{f^{\\prime\\prime\\prime}(x)}{6}$\\\n",
    "To cancel the second and third order, we can use:\\\n",
    "$8(f(x+\\delta)-f(x-\\delta))-(f(x+2\\delta)-f(x-2\\delta))=12f^{\\prime}(x)\\delta$\\\n",
    "$f^{\\prime}(x) = \\frac{1}{12\\delta}(8(f(x+\\delta)-f(x-\\delta))-(f(x+2\\delta)-f(x-2\\delta)))$\n",
    "### b\n",
    "To find the value of $\\delta$, we need to consider how it related to the error.\\\n",
    "Because in a, we cancel the third order of taylor series, we should consider the fourth order when we consider the error.\\\n",
    "$\\delta \\approx \\sqrt{\\frac{\\epsilon f}{f^{\\prime\\prime\\prime}}}$\n",
    "And $\\epsilon$ is around $10^{-8}$, so $\\delta \\approx \\sqrt{\\frac{10^{-8}f}{f^{\\prime\\prime\\prime\\prime}}}$\\\n",
    "For $f(x) = e^{x}$, $\\delta = 10^{-4}$\\\n",
    "For $f(x) = e^{0.01x}, \\frac{f}{f^{\\prime\\prime\\prime}}=10^{6}, \\delta = 10^{-1}$\\\n",
    "Here is the result I run with the code to prove it.\n"
   ]
  },
  {
   "cell_type": "markdown",
   "metadata": {},
   "source": [
    "![fig1](problemset1_1exp(x).jpg)"
   ]
  },
  {
   "cell_type": "markdown",
   "metadata": {},
   "source": [
    "The most precision is when $\\epsilon$ = -4"
   ]
  },
  {
   "cell_type": "markdown",
   "metadata": {},
   "source": [
    "![fig1](problemset1_1exp(0.01x).jpg)"
   ]
  },
  {
   "cell_type": "markdown",
   "metadata": {},
   "source": [
    "The most precision is when $\\epsilon$ = -1"
   ]
  },
  {
   "cell_type": "markdown",
   "metadata": {},
   "source": [
    "## Problem 2\n"
   ]
  }
 ],
 "metadata": {
  "kernelspec": {
   "display_name": "Python 3",
   "language": "python",
   "name": "python3"
  },
  "language_info": {
   "codemirror_mode": {
    "name": "ipython",
    "version": 3
   },
   "file_extension": ".py",
   "mimetype": "text/x-python",
   "name": "python",
   "nbconvert_exporter": "python",
   "pygments_lexer": "ipython3",
   "version": "3.8.3"
  }
 },
 "nbformat": 4,
 "nbformat_minor": 2
}
