{
 "cells": [
  {
   "cell_type": "markdown",
   "metadata": {},
   "source": [
    "# Here is solution for Problem set 1"
   ]
  },
  {
   "cell_type": "markdown",
   "metadata": {},
   "source": [
    "## Problem 1\n",
    "### a \n",
    "Let consider the 3 rd order taylor series for $x\\pm \\delta$ and $x \\pm 2\\delta$ at x\\\n",
    "$f(x+\\delta)=f(x)+\\delta f^{\\prime}(x) + \\delta^2\\frac{f^{\\prime\\prime}(x)}{2} +\\delta^3\\frac{f^{\\prime\\prime\\prime}(x)}{6}$\\\n",
    "$f(x-\\delta)=f(x)-\\delta f^{\\prime}(x) + \\delta^2\\frac{f^{\\prime\\prime}(x)}{2} -\\delta^3\\frac{f^{\\prime\\prime\\prime}(x)}{6}$\\\n",
    "$f(x+2\\delta)=f(x)+2\\delta f^{\\prime}(x) + 4\\delta^2\\frac{f^{\\prime\\prime}(x)}{2} +8\\delta^3\\frac{f^{\\prime\\prime\\prime}(x)}{6}$\\\n",
    "$f(x-2\\delta)=f(x)-2\\delta f^{\\prime}(x) + 4\\delta^2\\frac{f^{\\prime\\prime}(x)}{2} -8\\delta^3\\frac{f^{\\prime\\prime\\prime}(x)}{6}$\\\n",
    "To cancel the second and third order, we can use:\\\n",
    "$8(f(x+\\delta)-f(x-\\delta))-(f(x+2\\delta)-f(x-2\\delta))=12f^{\\prime}(x)\\delta$\\\n",
    "$f^{\\prime}(x) = \\frac{1}{12\\delta}(8(f(x+\\delta)-f(x-\\delta))-(f(x+2\\delta)-f(x-2\\delta)))$\n",
    "### b\n",
    "To find the value of $\\delta$, we need to consider how it related to the error.\\\n",
    "Because in a, we cancel the third order of taylor series, and all the odd order is cancelled, we should consider the fifth order when we consider the error.\\\n",
    "$\\delta \\approx (\\frac{\\epsilon f}{f^{(5)}})^{0.25}$\n",
    "And $\\epsilon$ is around $10^{-16}$, so $\\delta \\approx (\\frac{10^{-16}f}{f^{(5)}})^{0.25}$\\\n",
    "For $f(x) = e^{x}$, $\\delta = 10^{-4}$\\\n",
    "For $f(x) = e^{0.01x}, \\frac{f}{f^{(5)}}=10^{10}, \\delta = 10^{-1.5}$\\\n",
    "Here is the result I run with the code to prove it.\n"
   ]
  },
  {
   "cell_type": "markdown",
   "metadata": {},
   "source": [
    "![fig1](problemset1_1exp(x).jpg)"
   ]
  },
  {
   "cell_type": "markdown",
   "metadata": {},
   "source": [
    "The most precision is when $\\epsilon$ = -4"
   ]
  },
  {
   "cell_type": "markdown",
   "metadata": {},
   "source": [
    "![fig1](problemset1_1exp(0.01x).jpg)"
   ]
  },
  {
   "cell_type": "markdown",
   "metadata": {},
   "source": [
    "The most precision is when $\\epsilon$ = -1, a little bit off, might because the constant I ignored when I estimate the error."
   ]
  },
  {
   "cell_type": "markdown",
   "metadata": {},
   "source": [
    "## Problem 2\n",
    "As you can see in the code I use the 3rd order polynomial to do the interpolation. And I only use the odd number data, and check the error using the other data. Here is plot and error I got.\n",
    "![fig3](problemset1_2_plot.png)"
   ]
  },
  {
   "cell_type": "markdown",
   "metadata": {},
   "source": [
    "![fig4](problemset1_2_result.png)"
   ]
  },
  {
   "cell_type": "markdown",
   "metadata": {},
   "source": [
    "### Problem 3\n",
    "Here is the result I use the 1st, 2nd and 3rd order polynomial and cubic spline and rational function to interpolate the cos(x), and here is the plot and accuracy. I used 10 points from -0.5pi to 0.5pi.\n",
    "![fig5](problemset1_3_plot.png)\n",
    "![fig6](problemset1_3_result.png)"
   ]
  },
  {
   "cell_type": "markdown",
   "metadata": {},
   "source": [
    "For Lorentzian, I used 10 points from -1 to 1. And I set n =5, m=6 first. Here is the result and plot I got.\n",
    "![fig7](problemset1_3_plot2.png)\n",
    "![fig8](problemset1_3_result2.png)\n",
    "Apparently, the rational function is not a good interpolation, check the p and q, I found the function is not close to a lorentzian. The error I estimate for lorentzian using rational function should be close to 0, because lorentzian function$y=\\frac{1}{1+x^2}$ can be represented by rational function perfectly. So I changed n=1 and m=10, which makes the numerator close to lorentzian. Here is the result and plot I had.\n",
    "![fig9](problemset1_3_plot3.png)\n",
    "![fig10](problemset1_3_result3.png)\n"
   ]
  },
  {
   "cell_type": "markdown",
   "metadata": {},
   "source": [
    "Then I tried to change the function np.linalg.inv() to np.linalge.pinv(), and set n=5, m=6, the result became right, and the p and q are making more sense to be a lorentzian.\n",
    "![fig11](problemset1_3_plot4.png)\n",
    "![fig12](problemset1_3_result4.png)"
   ]
  },
  {
   "cell_type": "markdown",
   "metadata": {},
   "source": [
    "The reason I found is that because the inverse of matrix using .inv will cause some term in the matrix to a super large number, and cause the p and q to be much larger than it should be, while using .pinv, because the maximum will be 1, so it can prevent the present of the large numbers. Here is the result when I print the matrix using .inv and .pinv. When there is some term close to 0 in the matrix, using .inv will cause a large number, and cause the p and q to be much large, While using .pinv can prevent this happen.\n",
    ".inv(mat)\n",
    "![fig13](problemset1_3_result5.png)\n",
    ".pinv(mat)\n",
    "![fig14](problemset1_3_result6.png)"
   ]
  },
  {
   "cell_type": "markdown",
   "metadata": {},
   "source": [
    "### Problem 4\n",
    "I integrate the field of a charged ring, and get the field of the charged shell.\\\n",
    "There is a singularity in the integral. Which is when z=R\\ In code, I set R=1, and ingore the constants.\\\n",
    "The quad doesn't care.\\\n",
    "![fig15](problemset1_4_plot1.png)\n",
    "My integrator cares.\\\n",
    "Here is error I got\n",
    "![fig16](problemset1_4_plot2.png)\n",
    "\n"
   ]
  },
  {
   "cell_type": "markdown",
   "metadata": {},
   "source": [
    "Then I used a if function to avoid z=R.\n"
   ]
  },
  {
   "cell_type": "code",
   "execution_count": 5,
   "metadata": {},
   "outputs": [
    {
     "ename": "NameError",
     "evalue": "name 'd' is not defined",
     "output_type": "error",
     "traceback": [
      "\u001b[1;31m---------------------------------------------------------------------------\u001b[0m",
      "\u001b[1;31mNameError\u001b[0m                                 Traceback (most recent call last)",
      "\u001b[1;32m<ipython-input-5-4dbe465e0558>\u001b[0m in \u001b[0;36m<module>\u001b[1;34m\u001b[0m\n\u001b[1;32m----> 1\u001b[1;33m \u001b[1;32mfor\u001b[0m \u001b[0mz\u001b[0m \u001b[1;32min\u001b[0m \u001b[0md\u001b[0m\u001b[1;33m:\u001b[0m\u001b[1;33m\u001b[0m\u001b[1;33m\u001b[0m\u001b[0m\n\u001b[0m\u001b[0;32m      2\u001b[0m     \u001b[1;32mif\u001b[0m \u001b[0mz\u001b[0m\u001b[1;33m==\u001b[0m\u001b[1;36m1\u001b[0m\u001b[1;33m:\u001b[0m\u001b[1;33m\u001b[0m\u001b[1;33m\u001b[0m\u001b[0m\n\u001b[0;32m      3\u001b[0m         \u001b[0mE\u001b[0m\u001b[1;33m.\u001b[0m\u001b[0mappend\u001b[0m\u001b[1;33m(\u001b[0m\u001b[1;36m0\u001b[0m\u001b[1;33m)\u001b[0m\u001b[1;33m\u001b[0m\u001b[1;33m\u001b[0m\u001b[0m\n\u001b[0;32m      4\u001b[0m     \u001b[1;32melse\u001b[0m\u001b[1;33m:\u001b[0m\u001b[1;33m\u001b[0m\u001b[1;33m\u001b[0m\u001b[0m\n\u001b[0;32m      5\u001b[0m         \u001b[0mans\u001b[0m\u001b[1;33m=\u001b[0m\u001b[0mintegrate_step\u001b[0m\u001b[1;33m(\u001b[0m\u001b[0mz\u001b[0m\u001b[1;33m,\u001b[0m\u001b[0mx0\u001b[0m\u001b[1;33m,\u001b[0m\u001b[0mx1\u001b[0m\u001b[1;33m,\u001b[0m\u001b[1;36m0.0001\u001b[0m\u001b[1;33m)\u001b[0m\u001b[1;33m\u001b[0m\u001b[1;33m\u001b[0m\u001b[0m\n",
      "\u001b[1;31mNameError\u001b[0m: name 'd' is not defined"
     ]
    }
   ],
   "source": [
    "for z in d:\n",
    "    if z==1:\n",
    "        E.append(0)\n",
    "    else:\n",
    "        ans=integrate_step(z,x0,x1,0.0001)\n",
    "        E.append(ans)"
   ]
  },
  {
   "cell_type": "markdown",
   "metadata": {},
   "source": [
    "Here is the result I got.\n",
    "![fig17](problemset1_4_plot3.png)"
   ]
  },
  {
   "cell_type": "code",
   "execution_count": null,
   "metadata": {},
   "outputs": [],
   "source": []
  }
 ],
 "metadata": {
  "kernelspec": {
   "display_name": "Python 3",
   "language": "python",
   "name": "python3"
  },
  "language_info": {
   "codemirror_mode": {
    "name": "ipython",
    "version": 3
   },
   "file_extension": ".py",
   "mimetype": "text/x-python",
   "name": "python",
   "nbconvert_exporter": "python",
   "pygments_lexer": "ipython3",
   "version": "3.7.3"
  }
 },
 "nbformat": 4,
 "nbformat_minor": 2
}
