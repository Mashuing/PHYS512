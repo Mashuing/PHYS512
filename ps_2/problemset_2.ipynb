{
 "cells": [
  {
   "cell_type": "markdown",
   "metadata": {},
   "source": [
    "# Problemset 2"
   ]
  },
  {
   "cell_type": "markdown",
   "metadata": {},
   "source": [
    "## Problem1"
   ]
  },
  {
   "cell_type": "markdown",
   "metadata": {},
   "source": [
    " I use a loop in the function to compare the new xi to the old xi, if the components are same, the yi will not be calculated by function call. Here is how the code looks like."
   ]
  },
  {
   "cell_type": "code",
   "execution_count": null,
   "metadata": {},
   "outputs": [],
   "source": [
    "       xi=x_f\n",
    "        yi=y_f\n",
    "        xii=np.linspace(x1,x2,5)\n",
    "        yii=[]\n",
    "        for a in range(len(xii)):\n",
    "            d=0\n",
    "            for b in range(len(xi)):\n",
    "# if a value is not called function, count plus one\n",
    "                if xii[a]==xi[b]:\n",
    "                    yii.append(yi[b])\n",
    "                    count =count+1\n",
    "                    d=1\n",
    "            if d==0:\n",
    "                yii.append(fun(xii[a]))"
   ]
  },
  {
   "cell_type": "markdown",
   "metadata": {},
   "source": [
    "I run the code with lorentz and cos function, integrate from -10 to 10, here is the result.\n",
    "![fig1](problem2_1_result.jpg)"
   ]
  },
  {
   "cell_type": "markdown",
   "metadata": {},
   "source": [
    "# Problem 2\n",
    "## a\n",
    "To get accuray samller than 1e-6, I need 7 terms. Here is the result:\n",
    "![fig4](problem2_2_result3.jpg)\n",
    "The truncated chebyshev polynomial has larger RMS error, and small MAX error compare to regular polynomial fit.\n",
    "Here is the plot show the two fit, and the residuals of two fit. We can see average error and the max error of the two fit. Truncated chev has samller error at edge, but larger average value.\n",
    "![fig5](problem2_2_result1.jpg)\n",
    "![fig6](problem2_2_result2.jpg)"
   ]
  },
  {
   "cell_type": "markdown",
   "metadata": {},
   "source": [
    "# Problem 3\n",
    "## a\n",
    "I use solve implicity to solve the ODE, to include all the decay products in the chain, I wrote a loop in the function. Here is how the function looks like"
   ]
  },
  {
   "cell_type": "code",
   "execution_count": 1,
   "metadata": {},
   "outputs": [],
   "source": [
    "def fun(x,y,half_life=[4468e9*365*3600,2410*3600,670*60,245500*3600*365,75380*365*3600,1600*365*3600,38235*3600,310*60,268*60,199*60,1643e-3,223*365*3600,5015*365*3600,138376*3600]):\n",
    "    dydx=np.zeros(len(half_life)+1)\n",
    "    dydx[0]=-y[0]/half_life[0]\n",
    "    for i in range(1,len(half_life)):\n",
    "        dydx[i]=y[i-1]/half_life[i-1]-y[i]/half_life[i]\n",
    "    dydx[len(half_life)]=y[len(half_life)-1]/half_life[len(half_life)-1]\n",
    "    return dydx"
   ]
  },
  {
   "cell_type": "markdown",
   "metadata": {},
   "source": [
    "## b"
   ]
  },
  {
   "cell_type": "markdown",
   "metadata": {},
   "source": [
    "Here is the plot of ratio Pb206 to U238\n",
    "![fig2](problem2_3_result1.jpg)"
   ]
  },
  {
   "cell_type": "markdown",
   "metadata": {},
   "source": [
    "It is make sense, at begining, U238 decay slowly, so the ratio is almost 0, and when most of the U238 is decayed, the amount of Pb206 is grow faster, and the ratio kept increasing.\n",
    "\n",
    "Here is the plot of ratio U234 to Th230\n",
    "![fig2](problem2_3_result2.jpg)\n",
    "Zoom in to interesting region\n",
    "![fig3](problem2_3_result3.jpg)\n",
    "As we can see, the ratio of U234 to TH230 is linear for billion years, so we can use this to date rocks.\n"
   ]
  },
  {
   "cell_type": "markdown",
   "metadata": {},
   "source": []
  }
 ],
 "metadata": {
  "kernelspec": {
   "display_name": "Python 3",
   "language": "python",
   "name": "python3"
  },
  "language_info": {
   "codemirror_mode": {
    "name": "ipython",
    "version": 3
   },
   "file_extension": ".py",
   "mimetype": "text/x-python",
   "name": "python",
   "nbconvert_exporter": "python",
   "pygments_lexer": "ipython3",
   "version": "3.8.3"
  }
 },
 "nbformat": 4,
 "nbformat_minor": 4
}
